{
 "cells": [
  {
   "cell_type": "code",
   "execution_count": 13,
   "metadata": {
    "collapsed": true
   },
   "outputs": [],
   "source": [
    "import json\n",
    "import pandas as pd\n",
    "import os\n",
    "import numpy as np"
   ]
  },
  {
   "cell_type": "code",
   "execution_count": 34,
   "outputs": [],
   "source": [
    "json_file_path = 'P:\\\\DATASET-F2\\\\annotations\\\\coco-style-dataset-f2-July30-test.json'\n",
    "json_file_path_train = 'P:\\\\DATASET-F2\\\\annotations\\\\coco-style-dataset-f2-July30-train.json'\n"
   ],
   "metadata": {
    "collapsed": false,
    "pycharm": {
     "name": "#%%\n"
    }
   }
  },
  {
   "cell_type": "code",
   "execution_count": 45,
   "outputs": [],
   "source": [
    "with open(json_file_path) as j:\n",
    "     contents = json.load(j)\n",
    "\n",
    "\n",
    "dict_pairs = contents.items()\n",
    "pairs_iterator = iter(dict_pairs)\n",
    "first_pair = next(pairs_iterator)"
   ],
   "metadata": {
    "collapsed": false,
    "pycharm": {
     "name": "#%%\n"
    }
   }
  },
  {
   "cell_type": "code",
   "execution_count": 35,
   "outputs": [],
   "source": [
    "#TRAIN\n",
    "with open(json_file_path_train) as j:\n",
    "     contents_train = json.load(j)\n",
    "\n",
    "\n",
    "dict_pairs_train = contents_train.items()\n",
    "pairs_iterator_train = iter(dict_pairs_train)\n",
    "first_pair_train = next(pairs_iterator_train)"
   ],
   "metadata": {
    "collapsed": false,
    "pycharm": {
     "name": "#%%\n"
    }
   }
  },
  {
   "cell_type": "code",
   "execution_count": 36,
   "outputs": [
    {
     "name": "stdout",
     "output_type": "stream",
     "text": [
      "('images', [{'file_name': 'sugar_f1_170912_01_subImages_2_frame100__0_ulr0_ulc0.png', 'id': 0}, {'file_name': 'sugar_f1_170912_01_subImages_2_frame100__11_ulr768_ulc512.png', 'id': 1}, {'file_name': 'sugar_f1_170912_01_subImages_2_frame100__12_ulr768_ulc1024.png', 'id': 2}, {'file_name': 'sugar_f1_170912_01_subImages_2_frame100__13_ulr768_ulc1536.png', 'id': 3}, {'file_name': 'sugar_f1_170912_01_subImages_2_frame100__15_ulr1152_ulc0.png', 'id': 4}, {'file_name': 'sugar_f1_170912_01_subImages_2_frame100__16_ulr1152_ulc512.png', 'id': 5}, {'file_name': 'sugar_f1_170912_01_subImages_2_frame100__17_ulr1152_ulc1024.png', 'id': 6}, {'file_name': 'sugar_f1_170912_01_subImages_2_frame100__18_ulr1152_ulc1536.png', 'id': 7}, {'file_name': 'sugar_f1_170912_01_subImages_2_frame100__20_ulr1536_ulc0.png', 'id': 8}, {'file_name': 'sugar_f1_170912_01_subImages_2_frame100__22_ulr1536_ulc1024.png', 'id': 9}, {'file_name': 'sugar_f1_170912_01_subImages_2_frame100__24_ulr1536_ulc2048.png', 'id': 10}, {'file_name': 'sugar_f1_170912_01_subImages_2_frame100__2_ulr0_ulc1024.png', 'id': 11}, {'file_name': 'sugar_f1_170912_01_subImages_2_frame100__3_ulr0_ulc1536.png', 'id': 12}, {'file_name': 'sugar_f1_170912_01_subImages_2_frame100__4_ulr0_ulc2048.png', 'id': 13}, {'file_name': 'sugar_f1_170912_01_subImages_2_frame100__5_ulr384_ulc0.png', 'id': 14}, {'file_name': 'sugar_f1_170912_01_subImages_2_frame100__6_ulr384_ulc512.png', 'id': 15}, {'file_name': 'sugar_f1_170912_01_subImages_2_frame100__7_ulr384_ulc1024.png', 'id': 16}, {'file_name': 'sugar_f1_170912_01_subImages_2_frame100__9_ulr384_ulc2048.png', 'id': 17}, {'file_name': 'sugar_f1_170912_01_subImages_2_frame110__0_ulr0_ulc0.png', 'id': 18}, {'file_name': 'sugar_f1_170912_01_subImages_2_frame110__10_ulr768_ulc0.png', 'id': 19}, {'file_name': 'sugar_f1_170912_01_subImages_2_frame110__11_ulr768_ulc512.png', 'id': 20}, {'file_name': 'sugar_f1_170912_01_subImages_2_frame110__12_ulr768_ulc1024.png', 'id': 21}, {'file_name': 'sugar_f1_170912_01_subImages_2_frame110__14_ulr768_ulc2048.png', 'id': 22}, {'file_name': 'sugar_f1_170912_01_subImages_2_frame110__15_ulr1152_ulc0.png', 'id': 23}, {'file_name': 'sugar_f1_170912_01_subImages_2_frame110__17_ulr1152_ulc1024.png', 'id': 24}, {'file_name': 'sugar_f1_170912_01_subImages_2_frame110__18_ulr1152_ulc1536.png', 'id': 25}, {'file_name': 'sugar_f1_170912_01_subImages_2_frame110__19_ulr1152_ulc2048.png', 'id': 26}, {'file_name': 'sugar_f1_170912_01_subImages_2_frame110__1_ulr0_ulc512.png', 'id': 27}, {'file_name': 'sugar_f1_170912_01_subImages_2_frame110__21_ulr1536_ulc512.png', 'id': 28}, {'file_name': 'sugar_f1_170912_01_subImages_2_frame110__22_ulr1536_ulc1024.png', 'id': 29}, {'file_name': 'sugar_f1_170912_01_subImages_2_frame110__23_ulr1536_ulc1536.png', 'id': 30}, {'file_name': 'sugar_f1_170912_01_subImages_2_frame110__24_ulr1536_ulc2048.png', 'id': 31}, {'file_name': 'sugar_f1_170912_01_subImages_2_frame110__2_ulr0_ulc1024.png', 'id': 32}, {'file_name': 'sugar_f1_170912_01_subImages_2_frame110__3_ulr0_ulc1536.png', 'id': 33}, {'file_name': 'sugar_f1_170912_01_subImages_2_frame110__4_ulr0_ulc2048.png', 'id': 34}, {'file_name': 'sugar_f1_170912_01_subImages_2_frame110__5_ulr384_ulc0.png', 'id': 35}, {'file_name': 'sugar_f1_170912_01_subImages_2_frame110__6_ulr384_ulc512.png', 'id': 36}, {'file_name': 'sugar_f1_170912_01_subImages_2_frame110__7_ulr384_ulc1024.png', 'id': 37}, {'file_name': 'sugar_f1_170912_01_subImages_2_frame110__8_ulr384_ulc1536.png', 'id': 38}, {'file_name': 'sugar_f1_170912_01_subImages_2_frame110__9_ulr384_ulc2048.png', 'id': 39}, {'file_name': 'sugar_f1_170912_01_subImages_2_frame120__0_ulr0_ulc0.png', 'id': 40}, {'file_name': 'sugar_f1_170912_01_subImages_2_frame120__10_ulr768_ulc0.png', 'id': 41}, {'file_name': 'sugar_f1_170912_01_subImages_2_frame120__12_ulr768_ulc1024.png', 'id': 42}, {'file_name': 'sugar_f1_170912_01_subImages_2_frame120__14_ulr768_ulc2048.png', 'id': 43}, {'file_name': 'sugar_f1_170912_01_subImages_2_frame120__15_ulr1152_ulc0.png', 'id': 44}, {'file_name': 'sugar_f1_170912_01_subImages_2_frame120__16_ulr1152_ulc512.png', 'id': 45}, {'file_name': 'sugar_f1_170912_01_subImages_2_frame120__17_ulr1152_ulc1024.png', 'id': 46}, {'file_name': 'sugar_f1_170912_01_subImages_2_frame120__18_ulr1152_ulc1536.png', 'id': 47}, {'file_name': 'sugar_f1_170912_01_subImages_2_frame120__19_ulr1152_ulc2048.png', 'id': 48}, {'file_name': 'sugar_f1_170912_01_subImages_2_frame120__1_ulr0_ulc512.png', 'id': 49}, {'file_name': 'sugar_f1_170912_01_subImages_2_frame120__20_ulr1536_ulc0.png', 'id': 50}, {'file_name': 'sugar_f1_170912_01_subImages_2_frame120__21_ulr1536_ulc512.png', 'id': 51}, {'file_name': 'sugar_f1_170912_01_subImages_2_frame120__22_ulr1536_ulc1024.png', 'id': 52}, {'file_name': 'sugar_f1_170912_01_subImages_2_frame120__23_ulr1536_ulc1536.png', 'id': 53}, {'file_name': 'sugar_f1_170912_01_subImages_2_frame120__2_ulr0_ulc1024.png', 'id': 54}, {'file_name': 'sugar_f1_170912_01_subImages_2_frame120__3_ulr0_ulc1536.png', 'id': 55}, {'file_name': 'sugar_f1_170912_01_subImages_2_frame120__4_ulr0_ulc2048.png', 'id': 56}, {'file_name': 'sugar_f1_170912_01_subImages_2_frame120__5_ulr384_ulc0.png', 'id': 57}, {'file_name': 'sugar_f1_170912_01_subImages_2_frame120__6_ulr384_ulc512.png', 'id': 58}, {'file_name': 'sugar_f1_170912_01_subImages_2_frame130__12_ulr768_ulc1024.png', 'id': 59}, {'file_name': 'sugar_f1_170912_01_subImages_2_frame130__13_ulr768_ulc1536.png', 'id': 60}, {'file_name': 'sugar_f1_170912_01_subImages_2_frame130__14_ulr768_ulc2048.png', 'id': 61}, {'file_name': 'sugar_f1_170912_01_subImages_2_frame130__16_ulr1152_ulc512.png', 'id': 62}, {'file_name': 'sugar_f1_170912_01_subImages_2_frame130__17_ulr1152_ulc1024.png', 'id': 63}, {'file_name': 'sugar_f1_170912_01_subImages_2_frame130__18_ulr1152_ulc1536.png', 'id': 64}, {'file_name': 'sugar_f1_170912_01_subImages_2_frame130__19_ulr1152_ulc2048.png', 'id': 65}, {'file_name': 'sugar_f1_170912_01_subImages_2_frame130__20_ulr1536_ulc0.png', 'id': 66}, {'file_name': 'sugar_f1_170912_01_subImages_2_frame130__22_ulr1536_ulc1024.png', 'id': 67}, {'file_name': 'sugar_f1_170912_01_subImages_2_frame130__23_ulr1536_ulc1536.png', 'id': 68}, {'file_name': 'sugar_f1_170912_01_subImages_2_frame130__2_ulr0_ulc1024.png', 'id': 69}, {'file_name': 'sugar_f1_170912_01_subImages_2_frame130__3_ulr0_ulc1536.png', 'id': 70}, {'file_name': 'sugar_f1_170912_01_subImages_2_frame130__4_ulr0_ulc2048.png', 'id': 71}, {'file_name': 'sugar_f1_170912_01_subImages_2_frame130__5_ulr384_ulc0.png', 'id': 72}, {'file_name': 'sugar_f1_170912_01_subImages_2_frame130__6_ulr384_ulc512.png', 'id': 73}, {'file_name': 'sugar_f1_170912_01_subImages_2_frame130__8_ulr384_ulc1536.png', 'id': 74}, {'file_name': 'sugar_f1_170912_01_subImages_2_frame130__9_ulr384_ulc2048.png', 'id': 75}, {'file_name': 'sugar_f1_170912_01_subImages_2_frame140__0_ulr0_ulc0.png', 'id': 76}, {'file_name': 'sugar_f1_170912_01_subImages_2_frame140__10_ulr768_ulc0.png', 'id': 77}, {'file_name': 'sugar_f1_170912_01_subImages_2_frame140__11_ulr768_ulc512.png', 'id': 78}, {'file_name': 'sugar_f1_170912_01_subImages_2_frame140__13_ulr768_ulc1536.png', 'id': 79}, {'file_name': 'sugar_f1_170912_01_subImages_2_frame140__14_ulr768_ulc2048.png', 'id': 80}, {'file_name': 'sugar_f1_170912_01_subImages_2_frame140__15_ulr1152_ulc0.png', 'id': 81}, {'file_name': 'sugar_f1_170912_01_subImages_2_frame140__17_ulr1152_ulc1024.png', 'id': 82}, {'file_name': 'sugar_f1_170912_01_subImages_2_frame140__18_ulr1152_ulc1536.png', 'id': 83}, {'file_name': 'sugar_f1_170912_01_subImages_2_frame140__1_ulr0_ulc512.png', 'id': 84}, {'file_name': 'sugar_f1_170912_01_subImages_2_frame140__20_ulr1536_ulc0.png', 'id': 85}, {'file_name': 'sugar_f1_170912_01_subImages_2_frame140__21_ulr1536_ulc512.png', 'id': 86}, {'file_name': 'sugar_f1_170912_01_subImages_2_frame140__22_ulr1536_ulc1024.png', 'id': 87}, {'file_name': 'sugar_f1_170912_01_subImages_2_frame140__23_ulr1536_ulc1536.png', 'id': 88}, {'file_name': 'sugar_f1_170912_01_subImages_2_frame140__24_ulr1536_ulc2048.png', 'id': 89}, {'file_name': 'sugar_f1_170912_01_subImages_2_frame140__3_ulr0_ulc1536.png', 'id': 90}, {'file_name': 'sugar_f1_170912_01_subImages_2_frame140__5_ulr384_ulc0.png', 'id': 91}, {'file_name': 'sugar_f1_170912_01_subImages_2_frame140__7_ulr384_ulc1024.png', 'id': 92}, {'file_name': 'sugar_f1_170912_01_subImages_2_frame140__8_ulr384_ulc1536.png', 'id': 93}, {'file_name': 'sugar_f1_170912_01_subImages_2_frame140__9_ulr384_ulc2048.png', 'id': 94}, {'file_name': 'sugar_f1_170912_01_subImages_2_frame150__0_ulr0_ulc0.png', 'id': 95}, {'file_name': 'sugar_f1_170912_01_subImages_2_frame150__11_ulr768_ulc512.png', 'id': 96}, {'file_name': 'sugar_f1_170912_01_subImages_2_frame150__12_ulr768_ulc1024.png', 'id': 97}, {'file_name': 'sugar_f1_170912_01_subImages_2_frame150__13_ulr768_ulc1536.png', 'id': 98}, {'file_name': 'sugar_f1_170912_01_subImages_2_frame150__14_ulr768_ulc2048.png', 'id': 99}, {'file_name': 'sugar_f1_170912_01_subImages_2_frame150__15_ulr1152_ulc0.png', 'id': 100}, {'file_name': 'sugar_f1_170912_01_subImages_2_frame150__16_ulr1152_ulc512.png', 'id': 101}, {'file_name': 'sugar_f1_170912_01_subImages_2_frame150__17_ulr1152_ulc1024.png', 'id': 102}, {'file_name': 'sugar_f1_170912_01_subImages_2_frame150__18_ulr1152_ulc1536.png', 'id': 103}, {'file_name': 'sugar_f1_170912_01_subImages_2_frame150__1_ulr0_ulc512.png', 'id': 104}, {'file_name': 'sugar_f1_170912_01_subImages_2_frame150__21_ulr1536_ulc512.png', 'id': 105}, {'file_name': 'sugar_f1_170912_01_subImages_2_frame150__22_ulr1536_ulc1024.png', 'id': 106}, {'file_name': 'sugar_f1_170912_01_subImages_2_frame150__23_ulr1536_ulc1536.png', 'id': 107}, {'file_name': 'sugar_f1_170912_01_subImages_2_frame150__24_ulr1536_ulc2048.png', 'id': 108}, {'file_name': 'sugar_f1_170912_01_subImages_2_frame150__2_ulr0_ulc1024.png', 'id': 109}, {'file_name': 'sugar_f1_170912_01_subImages_2_frame150__6_ulr384_ulc512.png', 'id': 110}, {'file_name': 'sugar_f1_170912_01_subImages_2_frame150__7_ulr384_ulc1024.png', 'id': 111}, {'file_name': 'sugar_f1_170912_01_subImages_2_frame150__8_ulr384_ulc1536.png', 'id': 112}, {'file_name': 'sugar_f1_170912_01_subImages_2_frame150__9_ulr384_ulc2048.png', 'id': 113}, {'file_name': 'sugar_f1_170912_01_subImages_2_frame160__0_ulr0_ulc0.png', 'id': 114}, {'file_name': 'sugar_f1_170912_01_subImages_2_frame160__10_ulr768_ulc0.png', 'id': 115}, {'file_name': 'sugar_f1_170912_01_subImages_2_frame160__11_ulr768_ulc512.png', 'id': 116}, {'file_name': 'sugar_f1_170912_01_subImages_2_frame160__12_ulr768_ulc1024.png', 'id': 117}, {'file_name': 'sugar_f1_170912_01_subImages_2_frame160__13_ulr768_ulc1536.png', 'id': 118}, {'file_name': 'sugar_f1_170912_01_subImages_2_frame160__14_ulr768_ulc2048.png', 'id': 119}, {'file_name': 'sugar_f1_170912_01_subImages_2_frame160__15_ulr1152_ulc0.png', 'id': 120}, {'file_name': 'sugar_f1_170912_01_subImages_2_frame160__16_ulr1152_ulc512.png', 'id': 121}, {'file_name': 'sugar_f1_170912_01_subImages_2_frame160__17_ulr1152_ulc1024.png', 'id': 122}, {'file_name': 'sugar_f1_170912_01_subImages_2_frame160__18_ulr1152_ulc1536.png', 'id': 123}, {'file_name': 'sugar_f1_170912_01_subImages_2_frame160__19_ulr1152_ulc2048.png', 'id': 124}, {'file_name': 'sugar_f1_170912_01_subImages_2_frame160__20_ulr1536_ulc0.png', 'id': 125}, {'file_name': 'sugar_f1_170912_01_subImages_2_frame160__21_ulr1536_ulc512.png', 'id': 126}, {'file_name': 'sugar_f1_170912_01_subImages_2_frame160__22_ulr1536_ulc1024.png', 'id': 127}, {'file_name': 'sugar_f1_170912_01_subImages_2_frame160__23_ulr1536_ulc1536.png', 'id': 128}, {'file_name': 'sugar_f1_170912_01_subImages_2_frame160__24_ulr1536_ulc2048.png', 'id': 129}, {'file_name': 'sugar_f1_170912_01_subImages_2_frame160__4_ulr0_ulc2048.png', 'id': 130}, {'file_name': 'sugar_f1_170912_01_subImages_2_frame160__5_ulr384_ulc0.png', 'id': 131}, {'file_name': 'sugar_f1_170912_01_subImages_2_frame160__6_ulr384_ulc512.png', 'id': 132}, {'file_name': 'sugar_f1_170912_01_subImages_2_frame160__7_ulr384_ulc1024.png', 'id': 133}, {'file_name': 'sugar_f1_170912_01_subImages_2_frame160__8_ulr384_ulc1536.png', 'id': 134}, {'file_name': 'sugar_f1_170912_01_subImages_2_frame160__9_ulr384_ulc2048.png', 'id': 135}, {'file_name': 'sugar_f1_170912_01_subImages_2_frame180__0_ulr0_ulc0.png', 'id': 136}, {'file_name': 'sugar_f1_170912_01_subImages_2_frame180__10_ulr768_ulc0.png', 'id': 137}, {'file_name': 'sugar_f1_170912_01_subImages_2_frame180__11_ulr768_ulc512.png', 'id': 138}, {'file_name': 'sugar_f1_170912_01_subImages_2_frame180__12_ulr768_ulc1024.png', 'id': 139}, {'file_name': 'sugar_f1_170912_01_subImages_2_frame180__13_ulr768_ulc1536.png', 'id': 140}, {'file_name': 'sugar_f1_170912_01_subImages_2_frame180__14_ulr768_ulc2048.png', 'id': 141}, {'file_name': 'sugar_f1_170912_01_subImages_2_frame180__15_ulr1152_ulc0.png', 'id': 142}, {'file_name': 'sugar_f1_170912_01_subImages_2_frame180__16_ulr1152_ulc512.png', 'id': 143}, {'file_name': 'sugar_f1_170912_01_subImages_2_frame180__17_ulr1152_ulc1024.png', 'id': 144}, {'file_name': 'sugar_f1_170912_01_subImages_2_frame180__18_ulr1152_ulc1536.png', 'id': 145}, {'file_name': 'sugar_f1_170912_01_subImages_2_frame180__19_ulr1152_ulc2048.png', 'id': 146}, {'file_name': 'sugar_f1_170912_01_subImages_2_frame180__21_ulr1536_ulc512.png', 'id': 147}, {'file_name': 'sugar_f1_170912_01_subImages_2_frame180__22_ulr1536_ulc1024.png', 'id': 148}, {'file_name': 'sugar_f1_170912_01_subImages_2_frame180__23_ulr1536_ulc1536.png', 'id': 149}, {'file_name': 'sugar_f1_170912_01_subImages_2_frame180__24_ulr1536_ulc2048.png', 'id': 150}, {'file_name': 'sugar_f1_170912_01_subImages_2_frame180__3_ulr0_ulc1536.png', 'id': 151}, {'file_name': 'sugar_f1_170912_01_subImages_2_frame180__5_ulr384_ulc0.png', 'id': 152}, {'file_name': 'sugar_f1_170912_01_subImages_2_frame180__7_ulr384_ulc1024.png', 'id': 153}, {'file_name': 'sugar_f1_170912_01_subImages_2_frame180__8_ulr384_ulc1536.png', 'id': 154}, {'file_name': 'sugar_f1_170912_01_subImages_2_frame180__9_ulr384_ulc2048.png', 'id': 155}, {'file_name': 'sugar_f1_170912_01_subImages_2_frame20__0_ulr0_ulc0.png', 'id': 156}, {'file_name': 'sugar_f1_170912_01_subImages_2_frame20__10_ulr768_ulc0.png', 'id': 157}, {'file_name': 'sugar_f1_170912_01_subImages_2_frame20__11_ulr768_ulc512.png', 'id': 158}, {'file_name': 'sugar_f1_170912_01_subImages_2_frame20__12_ulr768_ulc1024.png', 'id': 159}, {'file_name': 'sugar_f1_170912_01_subImages_2_frame20__13_ulr768_ulc1536.png', 'id': 160}, {'file_name': 'sugar_f1_170912_01_subImages_2_frame20__14_ulr768_ulc2048.png', 'id': 161}, {'file_name': 'sugar_f1_170912_01_subImages_2_frame20__16_ulr1152_ulc512.png', 'id': 162}, {'file_name': 'sugar_f1_170912_01_subImages_2_frame20__17_ulr1152_ulc1024.png', 'id': 163}, {'file_name': 'sugar_f1_170912_01_subImages_2_frame20__19_ulr1152_ulc2048.png', 'id': 164}, {'file_name': 'sugar_f1_170912_01_subImages_2_frame20__1_ulr0_ulc512.png', 'id': 165}, {'file_name': 'sugar_f1_170912_01_subImages_2_frame20__20_ulr1536_ulc0.png', 'id': 166}, {'file_name': 'sugar_f1_170912_01_subImages_2_frame20__22_ulr1536_ulc1024.png', 'id': 167}, {'file_name': 'sugar_f1_170912_01_subImages_2_frame20__23_ulr1536_ulc1536.png', 'id': 168}, {'file_name': 'sugar_f1_170912_01_subImages_2_frame20__24_ulr1536_ulc2048.png', 'id': 169}, {'file_name': 'sugar_f1_170912_01_subImages_2_frame20__2_ulr0_ulc1024.png', 'id': 170}, {'file_name': 'sugar_f1_170912_01_subImages_2_frame20__7_ulr384_ulc1024.png', 'id': 171}, {'file_name': 'sugar_f1_170912_01_subImages_2_frame20__8_ulr384_ulc1536.png', 'id': 172}, {'file_name': 'sugar_f1_170912_01_subImages_2_frame20__9_ulr384_ulc2048.png', 'id': 173}, {'file_name': 'sugar_f1_170912_01_subImages_2_frame30__0_ulr0_ulc0.png', 'id': 174}, {'file_name': 'sugar_f1_170912_01_subImages_2_frame30__11_ulr768_ulc512.png', 'id': 175}, {'file_name': 'sugar_f1_170912_01_subImages_2_frame30__13_ulr768_ulc1536.png', 'id': 176}, {'file_name': 'sugar_f1_170912_01_subImages_2_frame30__14_ulr768_ulc2048.png', 'id': 177}, {'file_name': 'sugar_f1_170912_01_subImages_2_frame30__16_ulr1152_ulc512.png', 'id': 178}, {'file_name': 'sugar_f1_170912_01_subImages_2_frame30__17_ulr1152_ulc1024.png', 'id': 179}, {'file_name': 'sugar_f1_170912_01_subImages_2_frame30__18_ulr1152_ulc1536.png', 'id': 180}, {'file_name': 'sugar_f1_170912_01_subImages_2_frame30__19_ulr1152_ulc2048.png', 'id': 181}, {'file_name': 'sugar_f1_170912_01_subImages_2_frame30__1_ulr0_ulc512.png', 'id': 182}, {'file_name': 'sugar_f1_170912_01_subImages_2_frame30__20_ulr1536_ulc0.png', 'id': 183}, {'file_name': 'sugar_f1_170912_01_subImages_2_frame30__21_ulr1536_ulc512.png', 'id': 184}, {'file_name': 'sugar_f1_170912_01_subImages_2_frame30__22_ulr1536_ulc1024.png', 'id': 185}, {'file_name': 'sugar_f1_170912_01_subImages_2_frame30__23_ulr1536_ulc1536.png', 'id': 186}, {'file_name': 'sugar_f1_170912_01_subImages_2_frame30__24_ulr1536_ulc2048.png', 'id': 187}, {'file_name': 'sugar_f1_170912_01_subImages_2_frame30__2_ulr0_ulc1024.png', 'id': 188}, {'file_name': 'sugar_f1_170912_01_subImages_2_frame30__3_ulr0_ulc1536.png', 'id': 189}, {'file_name': 'sugar_f1_170912_01_subImages_2_frame30__4_ulr0_ulc2048.png', 'id': 190}, {'file_name': 'sugar_f1_170912_01_subImages_2_frame30__5_ulr384_ulc0.png', 'id': 191}, {'file_name': 'sugar_f1_170912_01_subImages_2_frame30__7_ulr384_ulc1024.png', 'id': 192}, {'file_name': 'sugar_f1_170912_01_subImages_2_frame30__8_ulr384_ulc1536.png', 'id': 193}, {'file_name': 'sugar_f1_170912_01_subImages_2_frame30__9_ulr384_ulc2048.png', 'id': 194}, {'file_name': 'sugar_f1_170912_01_subImages_2_frame40__0_ulr0_ulc0.png', 'id': 195}, {'file_name': 'sugar_f1_170912_01_subImages_2_frame40__10_ulr768_ulc0.png', 'id': 196}, {'file_name': 'sugar_f1_170912_01_subImages_2_frame40__11_ulr768_ulc512.png', 'id': 197}, {'file_name': 'sugar_f1_170912_01_subImages_2_frame40__12_ulr768_ulc1024.png', 'id': 198}, {'file_name': 'sugar_f1_170912_01_subImages_2_frame40__13_ulr768_ulc1536.png', 'id': 199}, {'file_name': 'sugar_f1_170912_01_subImages_2_frame40__14_ulr768_ulc2048.png', 'id': 200}, {'file_name': 'sugar_f1_170912_01_subImages_2_frame40__15_ulr1152_ulc0.png', 'id': 201}, {'file_name': 'sugar_f1_170912_01_subImages_2_frame40__16_ulr1152_ulc512.png', 'id': 202}, {'file_name': 'sugar_f1_170912_01_subImages_2_frame40__17_ulr1152_ulc1024.png', 'id': 203}, {'file_name': 'sugar_f1_170912_01_subImages_2_frame40__18_ulr1152_ulc1536.png', 'id': 204}, {'file_name': 'sugar_f1_170912_01_subImages_2_frame40__19_ulr1152_ulc2048.png', 'id': 205}, {'file_name': 'sugar_f1_170912_01_subImages_2_frame40__1_ulr0_ulc512.png', 'id': 206}, {'file_name': 'sugar_f1_170912_01_subImages_2_frame40__21_ulr1536_ulc512.png', 'id': 207}, {'file_name': 'sugar_f1_170912_01_subImages_2_frame40__22_ulr1536_ulc1024.png', 'id': 208}, {'file_name': 'sugar_f1_170912_01_subImages_2_frame40__24_ulr1536_ulc2048.png', 'id': 209}, {'file_name': 'sugar_f1_170912_01_subImages_2_frame40__2_ulr0_ulc1024.png', 'id': 210}, {'file_name': 'sugar_f1_170912_01_subImages_2_frame40__3_ulr0_ulc1536.png', 'id': 211}, {'file_name': 'sugar_f1_170912_01_subImages_2_frame40__4_ulr0_ulc2048.png', 'id': 212}, {'file_name': 'sugar_f1_170912_01_subImages_2_frame40__5_ulr384_ulc0.png', 'id': 213}, {'file_name': 'sugar_f1_170912_01_subImages_2_frame40__6_ulr384_ulc512.png', 'id': 214}, {'file_name': 'sugar_f1_170912_01_subImages_2_frame40__7_ulr384_ulc1024.png', 'id': 215}, {'file_name': 'sugar_f1_170912_01_subImages_2_frame40__9_ulr384_ulc2048.png', 'id': 216}, {'file_name': 'sugar_f1_170912_01_subImages_2_frame50__0_ulr0_ulc0.png', 'id': 217}, {'file_name': 'sugar_f1_170912_01_subImages_2_frame50__11_ulr768_ulc512.png', 'id': 218}, {'file_name': 'sugar_f1_170912_01_subImages_2_frame50__13_ulr768_ulc1536.png', 'id': 219}, {'file_name': 'sugar_f1_170912_01_subImages_2_frame50__14_ulr768_ulc2048.png', 'id': 220}, {'file_name': 'sugar_f1_170912_01_subImages_2_frame50__15_ulr1152_ulc0.png', 'id': 221}, {'file_name': 'sugar_f1_170912_01_subImages_2_frame50__16_ulr1152_ulc512.png', 'id': 222}, {'file_name': 'sugar_f1_170912_01_subImages_2_frame50__18_ulr1152_ulc1536.png', 'id': 223}, {'file_name': 'sugar_f1_170912_01_subImages_2_frame50__19_ulr1152_ulc2048.png', 'id': 224}, {'file_name': 'sugar_f1_170912_01_subImages_2_frame50__1_ulr0_ulc512.png', 'id': 225}, {'file_name': 'sugar_f1_170912_01_subImages_2_frame50__20_ulr1536_ulc0.png', 'id': 226}, {'file_name': 'sugar_f1_170912_01_subImages_2_frame50__21_ulr1536_ulc512.png', 'id': 227}, {'file_name': 'sugar_f1_170912_01_subImages_2_frame50__22_ulr1536_ulc1024.png', 'id': 228}, {'file_name': 'sugar_f1_170912_01_subImages_2_frame50__23_ulr1536_ulc1536.png', 'id': 229}, {'file_name': 'sugar_f1_170912_01_subImages_2_frame50__24_ulr1536_ulc2048.png', 'id': 230}, {'file_name': 'sugar_f1_170912_01_subImages_2_frame50__3_ulr0_ulc1536.png', 'id': 231}, {'file_name': 'sugar_f1_170912_01_subImages_2_frame50__4_ulr0_ulc2048.png', 'id': 232}, {'file_name': 'sugar_f1_170912_01_subImages_2_frame50__6_ulr384_ulc512.png', 'id': 233}, {'file_name': 'sugar_f1_170912_01_subImages_2_frame50__7_ulr384_ulc1024.png', 'id': 234}, {'file_name': 'sugar_f1_170912_01_subImages_2_frame50__8_ulr384_ulc1536.png', 'id': 235}, {'file_name': 'sugar_f1_170912_01_subImages_2_frame50__9_ulr384_ulc2048.png', 'id': 236}, {'file_name': 'sugar_f1_170912_01_subImages_2_frame60__0_ulr0_ulc0.png', 'id': 237}, {'file_name': 'sugar_f1_170912_01_subImages_2_frame60__10_ulr768_ulc0.png', 'id': 238}, {'file_name': 'sugar_f1_170912_01_subImages_2_frame60__11_ulr768_ulc512.png', 'id': 239}, {'file_name': 'sugar_f1_170912_01_subImages_2_frame60__12_ulr768_ulc1024.png', 'id': 240}, {'file_name': 'sugar_f1_170912_01_subImages_2_frame60__13_ulr768_ulc1536.png', 'id': 241}, {'file_name': 'sugar_f1_170912_01_subImages_2_frame60__14_ulr768_ulc2048.png', 'id': 242}, {'file_name': 'sugar_f1_170912_01_subImages_2_frame60__15_ulr1152_ulc0.png', 'id': 243}, {'file_name': 'sugar_f1_170912_01_subImages_2_frame60__16_ulr1152_ulc512.png', 'id': 244}, {'file_name': 'sugar_f1_170912_01_subImages_2_frame60__17_ulr1152_ulc1024.png', 'id': 245}, {'file_name': 'sugar_f1_170912_01_subImages_2_frame60__18_ulr1152_ulc1536.png', 'id': 246}, {'file_name': 'sugar_f1_170912_01_subImages_2_frame60__19_ulr1152_ulc2048.png', 'id': 247}, {'file_name': 'sugar_f1_170912_01_subImages_2_frame60__21_ulr1536_ulc512.png', 'id': 248}, {'file_name': 'sugar_f1_170912_01_subImages_2_frame60__22_ulr1536_ulc1024.png', 'id': 249}, {'file_name': 'sugar_f1_170912_01_subImages_2_frame60__23_ulr1536_ulc1536.png', 'id': 250}, {'file_name': 'sugar_f1_170912_01_subImages_2_frame60__24_ulr1536_ulc2048.png', 'id': 251}, {'file_name': 'sugar_f1_170912_01_subImages_2_frame60__3_ulr0_ulc1536.png', 'id': 252}, {'file_name': 'sugar_f1_170912_01_subImages_2_frame60__4_ulr0_ulc2048.png', 'id': 253}, {'file_name': 'sugar_f1_170912_01_subImages_2_frame60__7_ulr384_ulc1024.png', 'id': 254}, {'file_name': 'sugar_f1_170912_01_subImages_2_frame60__8_ulr384_ulc1536.png', 'id': 255}, {'file_name': 'sugar_f1_170912_01_subImages_2_frame60__9_ulr384_ulc2048.png', 'id': 256}, {'file_name': 'sugar_f1_170912_01_subImages_2_frame70__0_ulr0_ulc0.png', 'id': 257}, {'file_name': 'sugar_f1_170912_01_subImages_2_frame70__10_ulr768_ulc0.png', 'id': 258}, {'file_name': 'sugar_f1_170912_01_subImages_2_frame70__11_ulr768_ulc512.png', 'id': 259}, {'file_name': 'sugar_f1_170912_01_subImages_2_frame70__12_ulr768_ulc1024.png', 'id': 260}, {'file_name': 'sugar_f1_170912_01_subImages_2_frame70__14_ulr768_ulc2048.png', 'id': 261}, {'file_name': 'sugar_f1_170912_01_subImages_2_frame70__15_ulr1152_ulc0.png', 'id': 262}, {'file_name': 'sugar_f1_170912_01_subImages_2_frame70__16_ulr1152_ulc512.png', 'id': 263}, {'file_name': 'sugar_f1_170912_01_subImages_2_frame70__17_ulr1152_ulc1024.png', 'id': 264}, {'file_name': 'sugar_f1_170912_01_subImages_2_frame70__19_ulr1152_ulc2048.png', 'id': 265}, {'file_name': 'sugar_f1_170912_01_subImages_2_frame70__1_ulr0_ulc512.png', 'id': 266}, {'file_name': 'sugar_f1_170912_01_subImages_2_frame70__20_ulr1536_ulc0.png', 'id': 267}, {'file_name': 'sugar_f1_170912_01_subImages_2_frame70__21_ulr1536_ulc512.png', 'id': 268}, {'file_name': 'sugar_f1_170912_01_subImages_2_frame70__23_ulr1536_ulc1536.png', 'id': 269}, {'file_name': 'sugar_f1_170912_01_subImages_2_frame70__24_ulr1536_ulc2048.png', 'id': 270}, {'file_name': 'sugar_f1_170912_01_subImages_2_frame70__3_ulr0_ulc1536.png', 'id': 271}, {'file_name': 'sugar_f1_170912_01_subImages_2_frame70__4_ulr0_ulc2048.png', 'id': 272}, {'file_name': 'sugar_f1_170912_01_subImages_2_frame70__6_ulr384_ulc512.png', 'id': 273}, {'file_name': 'sugar_f1_170912_01_subImages_2_frame70__7_ulr384_ulc1024.png', 'id': 274}, {'file_name': 'sugar_f1_170912_01_subImages_2_frame70__8_ulr384_ulc1536.png', 'id': 275}, {'file_name': 'sugar_f1_170912_01_subImages_2_frame70__9_ulr384_ulc2048.png', 'id': 276}, {'file_name': 'sugar_f1_170912_01_subImages_2_frame80__0_ulr0_ulc0.png', 'id': 277}, {'file_name': 'sugar_f1_170912_01_subImages_2_frame80__10_ulr768_ulc0.png', 'id': 278}, {'file_name': 'sugar_f1_170912_01_subImages_2_frame80__11_ulr768_ulc512.png', 'id': 279}, {'file_name': 'sugar_f1_170912_01_subImages_2_frame80__12_ulr768_ulc1024.png', 'id': 280}, {'file_name': 'sugar_f1_170912_01_subImages_2_frame80__13_ulr768_ulc1536.png', 'id': 281}, {'file_name': 'sugar_f1_170912_01_subImages_2_frame80__14_ulr768_ulc2048.png', 'id': 282}, {'file_name': 'sugar_f1_170912_01_subImages_2_frame80__15_ulr1152_ulc0.png', 'id': 283}, {'file_name': 'sugar_f1_170912_01_subImages_2_frame80__16_ulr1152_ulc512.png', 'id': 284}, {'file_name': 'sugar_f1_170912_01_subImages_2_frame80__17_ulr1152_ulc1024.png', 'id': 285}, {'file_name': 'sugar_f1_170912_01_subImages_2_frame80__18_ulr1152_ulc1536.png', 'id': 286}, {'file_name': 'sugar_f1_170912_01_subImages_2_frame80__19_ulr1152_ulc2048.png', 'id': 287}, {'file_name': 'sugar_f1_170912_01_subImages_2_frame80__1_ulr0_ulc512.png', 'id': 288}, {'file_name': 'sugar_f1_170912_01_subImages_2_frame80__20_ulr1536_ulc0.png', 'id': 289}, {'file_name': 'sugar_f1_170912_01_subImages_2_frame80__21_ulr1536_ulc512.png', 'id': 290}, {'file_name': 'sugar_f1_170912_01_subImages_2_frame80__22_ulr1536_ulc1024.png', 'id': 291}, {'file_name': 'sugar_f1_170912_01_subImages_2_frame80__23_ulr1536_ulc1536.png', 'id': 292}, {'file_name': 'sugar_f1_170912_01_subImages_2_frame80__24_ulr1536_ulc2048.png', 'id': 293}, {'file_name': 'sugar_f1_170912_01_subImages_2_frame80__2_ulr0_ulc1024.png', 'id': 294}, {'file_name': 'sugar_f1_170912_01_subImages_2_frame80__3_ulr0_ulc1536.png', 'id': 295}, {'file_name': 'sugar_f1_170912_01_subImages_2_frame80__4_ulr0_ulc2048.png', 'id': 296}, {'file_name': 'sugar_f1_170912_01_subImages_2_frame80__5_ulr384_ulc0.png', 'id': 297}, {'file_name': 'sugar_f1_170912_01_subImages_2_frame80__6_ulr384_ulc512.png', 'id': 298}, {'file_name': 'sugar_f1_170912_01_subImages_2_frame80__7_ulr384_ulc1024.png', 'id': 299}, {'file_name': 'sugar_f1_170912_01_subImages_2_frame80__8_ulr384_ulc1536.png', 'id': 300}, {'file_name': 'sugar_f1_170912_01_subImages_2_frame80__9_ulr384_ulc2048.png', 'id': 301}, {'file_name': 'sugar_f1_170912_01_subImages_2_frame90__0_ulr0_ulc0.png', 'id': 302}, {'file_name': 'sugar_f1_170912_01_subImages_2_frame90__10_ulr768_ulc0.png', 'id': 303}, {'file_name': 'sugar_f1_170912_01_subImages_2_frame90__11_ulr768_ulc512.png', 'id': 304}, {'file_name': 'sugar_f1_170912_01_subImages_2_frame90__12_ulr768_ulc1024.png', 'id': 305}, {'file_name': 'sugar_f1_170912_01_subImages_2_frame90__13_ulr768_ulc1536.png', 'id': 306}, {'file_name': 'sugar_f1_170912_01_subImages_2_frame90__14_ulr768_ulc2048.png', 'id': 307}, {'file_name': 'sugar_f1_170912_01_subImages_2_frame90__15_ulr1152_ulc0.png', 'id': 308}, {'file_name': 'sugar_f1_170912_01_subImages_2_frame90__17_ulr1152_ulc1024.png', 'id': 309}, {'file_name': 'sugar_f1_170912_01_subImages_2_frame90__18_ulr1152_ulc1536.png', 'id': 310}, {'file_name': 'sugar_f1_170912_01_subImages_2_frame90__19_ulr1152_ulc2048.png', 'id': 311}, {'file_name': 'sugar_f1_170912_01_subImages_2_frame90__20_ulr1536_ulc0.png', 'id': 312}, {'file_name': 'sugar_f1_170912_01_subImages_2_frame90__21_ulr1536_ulc512.png', 'id': 313}, {'file_name': 'sugar_f1_170912_01_subImages_2_frame90__24_ulr1536_ulc2048.png', 'id': 314}, {'file_name': 'sugar_f1_170912_01_subImages_2_frame90__3_ulr0_ulc1536.png', 'id': 315}, {'file_name': 'sugar_f1_170912_01_subImages_2_frame90__5_ulr384_ulc0.png', 'id': 316}, {'file_name': 'sugar_f1_170912_01_subImages_2_frame90__6_ulr384_ulc512.png', 'id': 317}, {'file_name': 'sugar_f1_170912_01_subImages_2_frame90__7_ulr384_ulc1024.png', 'id': 318}, {'file_name': 'sugar_f1_170912_01_subImages_2_frame90__8_ulr384_ulc1536.png', 'id': 319}])\n"
     ]
    }
   ],
   "source": [
    "# TRAIN\n",
    "print(first_pair_train)"
   ],
   "metadata": {
    "collapsed": false,
    "pycharm": {
     "name": "#%%\n"
    }
   }
  },
  {
   "cell_type": "code",
   "execution_count": 37,
   "outputs": [
    {
     "name": "stdout",
     "output_type": "stream",
     "text": [
      "('images', [{'file_name': 'sugar_f1_170912_01_subImages_2_frame100__10_ulr768_ulc0.png', 'id': 0}, {'file_name': 'sugar_f1_170912_01_subImages_2_frame100__14_ulr768_ulc2048.png', 'id': 1}, {'file_name': 'sugar_f1_170912_01_subImages_2_frame100__19_ulr1152_ulc2048.png', 'id': 2}, {'file_name': 'sugar_f1_170912_01_subImages_2_frame100__1_ulr0_ulc512.png', 'id': 3}, {'file_name': 'sugar_f1_170912_01_subImages_2_frame100__21_ulr1536_ulc512.png', 'id': 4}, {'file_name': 'sugar_f1_170912_01_subImages_2_frame100__23_ulr1536_ulc1536.png', 'id': 5}, {'file_name': 'sugar_f1_170912_01_subImages_2_frame100__8_ulr384_ulc1536.png', 'id': 6}, {'file_name': 'sugar_f1_170912_01_subImages_2_frame110__13_ulr768_ulc1536.png', 'id': 7}, {'file_name': 'sugar_f1_170912_01_subImages_2_frame110__16_ulr1152_ulc512.png', 'id': 8}, {'file_name': 'sugar_f1_170912_01_subImages_2_frame110__20_ulr1536_ulc0.png', 'id': 9}, {'file_name': 'sugar_f1_170912_01_subImages_2_frame120__11_ulr768_ulc512.png', 'id': 10}, {'file_name': 'sugar_f1_170912_01_subImages_2_frame120__13_ulr768_ulc1536.png', 'id': 11}, {'file_name': 'sugar_f1_170912_01_subImages_2_frame120__24_ulr1536_ulc2048.png', 'id': 12}, {'file_name': 'sugar_f1_170912_01_subImages_2_frame120__7_ulr384_ulc1024.png', 'id': 13}, {'file_name': 'sugar_f1_170912_01_subImages_2_frame120__8_ulr384_ulc1536.png', 'id': 14}, {'file_name': 'sugar_f1_170912_01_subImages_2_frame120__9_ulr384_ulc2048.png', 'id': 15}, {'file_name': 'sugar_f1_170912_01_subImages_2_frame130__0_ulr0_ulc0.png', 'id': 16}, {'file_name': 'sugar_f1_170912_01_subImages_2_frame130__10_ulr768_ulc0.png', 'id': 17}, {'file_name': 'sugar_f1_170912_01_subImages_2_frame130__11_ulr768_ulc512.png', 'id': 18}, {'file_name': 'sugar_f1_170912_01_subImages_2_frame130__15_ulr1152_ulc0.png', 'id': 19}, {'file_name': 'sugar_f1_170912_01_subImages_2_frame130__1_ulr0_ulc512.png', 'id': 20}, {'file_name': 'sugar_f1_170912_01_subImages_2_frame130__21_ulr1536_ulc512.png', 'id': 21}, {'file_name': 'sugar_f1_170912_01_subImages_2_frame130__24_ulr1536_ulc2048.png', 'id': 22}, {'file_name': 'sugar_f1_170912_01_subImages_2_frame130__7_ulr384_ulc1024.png', 'id': 23}, {'file_name': 'sugar_f1_170912_01_subImages_2_frame140__12_ulr768_ulc1024.png', 'id': 24}, {'file_name': 'sugar_f1_170912_01_subImages_2_frame140__16_ulr1152_ulc512.png', 'id': 25}, {'file_name': 'sugar_f1_170912_01_subImages_2_frame140__19_ulr1152_ulc2048.png', 'id': 26}, {'file_name': 'sugar_f1_170912_01_subImages_2_frame140__2_ulr0_ulc1024.png', 'id': 27}, {'file_name': 'sugar_f1_170912_01_subImages_2_frame140__4_ulr0_ulc2048.png', 'id': 28}, {'file_name': 'sugar_f1_170912_01_subImages_2_frame140__6_ulr384_ulc512.png', 'id': 29}, {'file_name': 'sugar_f1_170912_01_subImages_2_frame150__10_ulr768_ulc0.png', 'id': 30}, {'file_name': 'sugar_f1_170912_01_subImages_2_frame150__19_ulr1152_ulc2048.png', 'id': 31}, {'file_name': 'sugar_f1_170912_01_subImages_2_frame150__20_ulr1536_ulc0.png', 'id': 32}, {'file_name': 'sugar_f1_170912_01_subImages_2_frame150__3_ulr0_ulc1536.png', 'id': 33}, {'file_name': 'sugar_f1_170912_01_subImages_2_frame150__4_ulr0_ulc2048.png', 'id': 34}, {'file_name': 'sugar_f1_170912_01_subImages_2_frame150__5_ulr384_ulc0.png', 'id': 35}, {'file_name': 'sugar_f1_170912_01_subImages_2_frame160__1_ulr0_ulc512.png', 'id': 36}, {'file_name': 'sugar_f1_170912_01_subImages_2_frame160__2_ulr0_ulc1024.png', 'id': 37}, {'file_name': 'sugar_f1_170912_01_subImages_2_frame160__3_ulr0_ulc1536.png', 'id': 38}, {'file_name': 'sugar_f1_170912_01_subImages_2_frame180__1_ulr0_ulc512.png', 'id': 39}, {'file_name': 'sugar_f1_170912_01_subImages_2_frame180__20_ulr1536_ulc0.png', 'id': 40}, {'file_name': 'sugar_f1_170912_01_subImages_2_frame180__2_ulr0_ulc1024.png', 'id': 41}, {'file_name': 'sugar_f1_170912_01_subImages_2_frame180__4_ulr0_ulc2048.png', 'id': 42}, {'file_name': 'sugar_f1_170912_01_subImages_2_frame180__6_ulr384_ulc512.png', 'id': 43}, {'file_name': 'sugar_f1_170912_01_subImages_2_frame20__15_ulr1152_ulc0.png', 'id': 44}, {'file_name': 'sugar_f1_170912_01_subImages_2_frame20__18_ulr1152_ulc1536.png', 'id': 45}, {'file_name': 'sugar_f1_170912_01_subImages_2_frame20__21_ulr1536_ulc512.png', 'id': 46}, {'file_name': 'sugar_f1_170912_01_subImages_2_frame20__3_ulr0_ulc1536.png', 'id': 47}, {'file_name': 'sugar_f1_170912_01_subImages_2_frame20__4_ulr0_ulc2048.png', 'id': 48}, {'file_name': 'sugar_f1_170912_01_subImages_2_frame20__5_ulr384_ulc0.png', 'id': 49}, {'file_name': 'sugar_f1_170912_01_subImages_2_frame20__6_ulr384_ulc512.png', 'id': 50}, {'file_name': 'sugar_f1_170912_01_subImages_2_frame30__10_ulr768_ulc0.png', 'id': 51}, {'file_name': 'sugar_f1_170912_01_subImages_2_frame30__12_ulr768_ulc1024.png', 'id': 52}, {'file_name': 'sugar_f1_170912_01_subImages_2_frame30__15_ulr1152_ulc0.png', 'id': 53}, {'file_name': 'sugar_f1_170912_01_subImages_2_frame30__6_ulr384_ulc512.png', 'id': 54}, {'file_name': 'sugar_f1_170912_01_subImages_2_frame40__20_ulr1536_ulc0.png', 'id': 55}, {'file_name': 'sugar_f1_170912_01_subImages_2_frame40__23_ulr1536_ulc1536.png', 'id': 56}, {'file_name': 'sugar_f1_170912_01_subImages_2_frame40__8_ulr384_ulc1536.png', 'id': 57}, {'file_name': 'sugar_f1_170912_01_subImages_2_frame50__10_ulr768_ulc0.png', 'id': 58}, {'file_name': 'sugar_f1_170912_01_subImages_2_frame50__12_ulr768_ulc1024.png', 'id': 59}, {'file_name': 'sugar_f1_170912_01_subImages_2_frame50__17_ulr1152_ulc1024.png', 'id': 60}, {'file_name': 'sugar_f1_170912_01_subImages_2_frame50__2_ulr0_ulc1024.png', 'id': 61}, {'file_name': 'sugar_f1_170912_01_subImages_2_frame50__5_ulr384_ulc0.png', 'id': 62}, {'file_name': 'sugar_f1_170912_01_subImages_2_frame60__1_ulr0_ulc512.png', 'id': 63}, {'file_name': 'sugar_f1_170912_01_subImages_2_frame60__20_ulr1536_ulc0.png', 'id': 64}, {'file_name': 'sugar_f1_170912_01_subImages_2_frame60__2_ulr0_ulc1024.png', 'id': 65}, {'file_name': 'sugar_f1_170912_01_subImages_2_frame60__5_ulr384_ulc0.png', 'id': 66}, {'file_name': 'sugar_f1_170912_01_subImages_2_frame60__6_ulr384_ulc512.png', 'id': 67}, {'file_name': 'sugar_f1_170912_01_subImages_2_frame70__13_ulr768_ulc1536.png', 'id': 68}, {'file_name': 'sugar_f1_170912_01_subImages_2_frame70__18_ulr1152_ulc1536.png', 'id': 69}, {'file_name': 'sugar_f1_170912_01_subImages_2_frame70__22_ulr1536_ulc1024.png', 'id': 70}, {'file_name': 'sugar_f1_170912_01_subImages_2_frame70__2_ulr0_ulc1024.png', 'id': 71}, {'file_name': 'sugar_f1_170912_01_subImages_2_frame70__5_ulr384_ulc0.png', 'id': 72}, {'file_name': 'sugar_f1_170912_01_subImages_2_frame90__16_ulr1152_ulc512.png', 'id': 73}, {'file_name': 'sugar_f1_170912_01_subImages_2_frame90__1_ulr0_ulc512.png', 'id': 74}, {'file_name': 'sugar_f1_170912_01_subImages_2_frame90__22_ulr1536_ulc1024.png', 'id': 75}, {'file_name': 'sugar_f1_170912_01_subImages_2_frame90__23_ulr1536_ulc1536.png', 'id': 76}, {'file_name': 'sugar_f1_170912_01_subImages_2_frame90__2_ulr0_ulc1024.png', 'id': 77}, {'file_name': 'sugar_f1_170912_01_subImages_2_frame90__4_ulr0_ulc2048.png', 'id': 78}, {'file_name': 'sugar_f1_170912_01_subImages_2_frame90__9_ulr384_ulc2048.png', 'id': 79}])\n"
     ]
    }
   ],
   "source": [
    "# TRAIN\n",
    "print(first_pair)"
   ],
   "metadata": {
    "collapsed": false,
    "pycharm": {
     "name": "#%%\n"
    }
   }
  },
  {
   "cell_type": "code",
   "execution_count": 38,
   "outputs": [
    {
     "name": "stdout",
     "output_type": "stream",
     "text": [
      "{'id': 0, 'bbox': [449, 330, 63, 41], 'area': 2583, 'image_id': 0, 'category_id': 1, 'iscrowd': 0}\n",
      "4790\n"
     ]
    }
   ],
   "source": [
    "# TRAIN\n",
    "print(contents_train['annotations'][0])\n",
    "print(len(contents_train['annotations']))"
   ],
   "metadata": {
    "collapsed": false,
    "pycharm": {
     "name": "#%%\n"
    }
   }
  },
  {
   "cell_type": "code",
   "execution_count": 39,
   "outputs": [
    {
     "name": "stdout",
     "output_type": "stream",
     "text": [
      "{'file_name': 'sugar_f1_170912_01_subImages_2_frame100__0_ulr0_ulc0.png', 'id': 0}\n",
      "320\n"
     ]
    }
   ],
   "source": [
    "# TRAIN\n",
    "print(contents_train['images'][0])\n",
    "print(len(contents_train['images']))\n",
    "\n"
   ],
   "metadata": {
    "collapsed": false,
    "pycharm": {
     "name": "#%%\n"
    }
   }
  },
  {
   "cell_type": "code",
   "execution_count": 40,
   "outputs": [
    {
     "name": "stdout",
     "output_type": "stream",
     "text": [
      "Index(['file_name', 'id'], dtype='object')\n",
      "(320, 2)\n",
      "                                           file_name  id\n",
      "0  sugar_f1_170912_01_subImages_2_frame100__0_ulr...   0\n",
      "1  sugar_f1_170912_01_subImages_2_frame100__11_ul...   1\n",
      "2  sugar_f1_170912_01_subImages_2_frame100__12_ul...   2\n",
      "3  sugar_f1_170912_01_subImages_2_frame100__13_ul...   3\n",
      "4  sugar_f1_170912_01_subImages_2_frame100__15_ul...   4\n"
     ]
    }
   ],
   "source": [
    "# TRAIN\n",
    "df_img_train = pd.DataFrame.from_dict(contents_train['images'])\n",
    "print(df_img_train.columns)\n",
    "print(df_img_train.shape)\n",
    "print(df_img_train.head())"
   ],
   "metadata": {
    "collapsed": false,
    "pycharm": {
     "name": "#%%\n"
    }
   }
  },
  {
   "cell_type": "code",
   "execution_count": 41,
   "outputs": [
    {
     "name": "stdout",
     "output_type": "stream",
     "text": [
      "Index(['id', 'bbox', 'area', 'image_id', 'category_id', 'iscrowd'], dtype='object')\n",
      "(4790, 6)\n",
      "   id                bbox   area  image_id  category_id  iscrowd\n",
      "0   0  [449, 330, 63, 41]   2583         0            1        0\n",
      "1   1   [0, 313, 155, 71]  11005         0            1        0\n",
      "2   2  [20, 193, 125, 96]  12000         0            1        0\n",
      "3   3   [31, 0, 151, 136]  20536         0            1        0\n",
      "4   4    [0, 303, 40, 46]   1840         1            1        0\n"
     ]
    }
   ],
   "source": [
    "# TRAIN\n",
    "\n",
    "df_ann_train = pd.DataFrame.from_dict(contents_train['annotations'])\n",
    "print(df_ann_train.columns)\n",
    "print(df_ann_train.shape)\n",
    "print(df_ann_train.head())\n",
    "\n"
   ],
   "metadata": {
    "collapsed": false,
    "pycharm": {
     "name": "#%%\n"
    }
   }
  },
  {
   "cell_type": "code",
   "execution_count": 42,
   "outputs": [
    {
     "data": {
      "text/plain": "2    2097\n3    1535\n1    1158\nName: category_id, dtype: int64"
     },
     "execution_count": 42,
     "metadata": {},
     "output_type": "execute_result"
    }
   ],
   "source": [
    "df_ann_train['category_id'].value_counts()"
   ],
   "metadata": {
    "collapsed": false,
    "pycharm": {
     "name": "#%%\n"
    }
   }
  },
  {
   "cell_type": "markdown",
   "source": [
    "Counts of annotations training set F2\n"
   ],
   "metadata": {
    "collapsed": false,
    "pycharm": {
     "name": "#%% md\n"
    }
   }
  },
  {
   "cell_type": "code",
   "execution_count": 44,
   "outputs": [
    {
     "name": "stdout",
     "output_type": "stream",
     "text": [
      "3.61875 crops per image on average - training set F2 \n",
      "6.553125 weeds per image on average - training set F2 \n",
      "4.796875 grass per image on average - training set F2 \n"
     ]
    }
   ],
   "source": [
    "# per class - training set F2 (N = 320)\n",
    "\n",
    "print(1158/320, \"crops per image on average - training set F2 \")\n",
    "print(2097/320, \"weeds per image on average - training set F2 \")\n",
    "print(1535/320, \"grass per image on average - training set F2 \")\n",
    "\n"
   ],
   "metadata": {
    "collapsed": false,
    "pycharm": {
     "name": "#%%\n"
    }
   }
  },
  {
   "cell_type": "code",
   "execution_count": 46,
   "outputs": [
    {
     "name": "stdout",
     "output_type": "stream",
     "text": [
      "{'id': 0, 'bbox': [0, 269, 69, 110], 'area': 7590, 'image_id': 0, 'category_id': 1, 'iscrowd': 0}\n",
      "1196\n"
     ]
    }
   ],
   "source": [
    "print(contents['annotations'][0])\n",
    "print(len(contents['annotations']))"
   ],
   "metadata": {
    "collapsed": false,
    "pycharm": {
     "name": "#%%\n"
    }
   }
  },
  {
   "cell_type": "code",
   "execution_count": 47,
   "outputs": [
    {
     "name": "stdout",
     "output_type": "stream",
     "text": [
      "{'file_name': 'sugar_f1_170912_01_subImages_2_frame100__10_ulr768_ulc0.png', 'id': 0}\n",
      "80\n"
     ]
    }
   ],
   "source": [
    "print(contents['images'][0])\n",
    "print(len(contents['images']))"
   ],
   "metadata": {
    "collapsed": false,
    "pycharm": {
     "name": "#%%\n"
    }
   }
  },
  {
   "cell_type": "code",
   "execution_count": 48,
   "outputs": [
    {
     "name": "stdout",
     "output_type": "stream",
     "text": [
      "Index(['file_name', 'id'], dtype='object')\n",
      "(80, 2)\n",
      "                                           file_name  id\n",
      "0  sugar_f1_170912_01_subImages_2_frame100__10_ul...   0\n",
      "1  sugar_f1_170912_01_subImages_2_frame100__14_ul...   1\n",
      "2  sugar_f1_170912_01_subImages_2_frame100__19_ul...   2\n",
      "3  sugar_f1_170912_01_subImages_2_frame100__1_ulr...   3\n",
      "4  sugar_f1_170912_01_subImages_2_frame100__21_ul...   4\n"
     ]
    }
   ],
   "source": [
    "\n",
    "df_img = pd.DataFrame.from_dict(contents['images'])\n",
    "print(df_img.columns)\n",
    "print(df_img.shape)\n",
    "print(df_img.head())"
   ],
   "metadata": {
    "collapsed": false,
    "pycharm": {
     "name": "#%%\n"
    }
   }
  },
  {
   "cell_type": "code",
   "execution_count": 49,
   "outputs": [
    {
     "name": "stdout",
     "output_type": "stream",
     "text": [
      "Index(['file_name', 'image_id'], dtype='object')\n"
     ]
    }
   ],
   "source": [
    "df_img = df_img.rename(columns={\"id\": \"image_id\"})\n",
    "print(df_img.columns)"
   ],
   "metadata": {
    "collapsed": false,
    "pycharm": {
     "name": "#%%\n"
    }
   }
  },
  {
   "cell_type": "code",
   "execution_count": 50,
   "outputs": [
    {
     "name": "stdout",
     "output_type": "stream",
     "text": [
      "Index(['id', 'bbox', 'area', 'image_id', 'category_id', 'iscrowd'], dtype='object')\n",
      "(1196, 6)\n",
      "   id                 bbox   area  image_id  category_id  iscrowd\n",
      "0   0    [0, 269, 69, 110]   7590         0            1        0\n",
      "1   1  [435, 238, 77, 115]   8855         0            1        0\n",
      "2   2   [441, 93, 71, 103]   7313         0            1        0\n",
      "3   3    [0, 74, 113, 145]  16385         0            1        0\n",
      "4   4     [454, 0, 56, 27]   1512         0            1        0\n"
     ]
    }
   ],
   "source": [
    "df_ann = pd.DataFrame.from_dict(contents['annotations'])\n",
    "print(df_ann.columns)\n",
    "print(df_ann.shape)\n",
    "print(df_ann.head())\n"
   ],
   "metadata": {
    "collapsed": false,
    "pycharm": {
     "name": "#%%\n"
    }
   }
  },
  {
   "cell_type": "code",
   "execution_count": 51,
   "outputs": [
    {
     "data": {
      "text/plain": "2    486\n3    447\n1    263\nName: category_id, dtype: int64"
     },
     "execution_count": 51,
     "metadata": {},
     "output_type": "execute_result"
    }
   ],
   "source": [
    "df_ann['category_id'].value_counts()"
   ],
   "metadata": {
    "collapsed": false,
    "pycharm": {
     "name": "#%%\n"
    }
   }
  },
  {
   "cell_type": "markdown",
   "source": [
    "Counts annotations test set F2"
   ],
   "metadata": {
    "collapsed": false,
    "pycharm": {
     "name": "#%% md\n"
    }
   }
  },
  {
   "cell_type": "code",
   "execution_count": 52,
   "outputs": [
    {
     "name": "stdout",
     "output_type": "stream",
     "text": [
      "3.2875 crops per image on average - test set F2 \n",
      "6.075 weeds per image on average - test set F2 \n",
      "5.5875 grass per image on average - test set F2 \n"
     ]
    }
   ],
   "source": [
    "# per class - test set F2 (N=80)\n",
    "\n",
    "print(263/80, \"crops per image on average - test set F2 \")\n",
    "print(486/80, \"weeds per image on average - test set F2 \")\n",
    "print(447/80, \"grass per image on average - test set F2 \")\n"
   ],
   "metadata": {
    "collapsed": false,
    "pycharm": {
     "name": "#%%\n"
    }
   }
  },
  {
   "cell_type": "code",
   "execution_count": 55,
   "outputs": [
    {
     "name": "stdout",
     "output_type": "stream",
     "text": [
      "3.2875 crops per image on average - test set F2 \n",
      "6.075 weeds per image on average - test set F2 \n",
      "5.5875 grass per image on average - test set F2 \n",
      "\n",
      "3.61875 crops per image on average - training set F2 \n",
      "6.553125 weeds per image on average - training set F2 \n",
      "4.796875 grass per image on average - training set F2 \n",
      "\n",
      "3.5525 crops per image on average - TOTAL dataset F2 \n",
      "6.4575 weeds per image on average - TOTAL dataset F2 \n",
      "4.955 grass per image on average - TOTAL dataset F2 \n",
      "\n",
      "1421 crops in total - TOTAL dataset F2 \n",
      "2583 weeds in total - TOTAL dataset F2 \n",
      "1982 grass in total - TOTAL dataset F2 \n"
     ]
    }
   ],
   "source": [
    "# per class - test set F2 (N=80) - on avg\n",
    "\n",
    "print(263/80, \"crops per image on average - test set F2 \")\n",
    "print(486/80, \"weeds per image on average - test set F2 \")\n",
    "print(447/80, \"grass per image on average - test set F2 \")\n",
    "print(\"\")\n",
    "\n",
    "# per class - training set F2 (N = 320) on avg\n",
    "\n",
    "print(1158/320, \"crops per image on average - training set F2 \")\n",
    "print(2097/320, \"weeds per image on average - training set F2 \")\n",
    "print(1535/320, \"grass per image on average - training set F2 \")\n",
    "print(\"\")\n",
    "\n",
    "#per class TOTAL dataset F2 (N=400) on avg\n",
    "\n",
    "print((263+1158)/400, \"crops per image on average - TOTAL dataset F2 \")\n",
    "print((486+2097)/400, \"weeds per image on average - TOTAL dataset F2 \")\n",
    "print((447+1535)/400, \"grass per image on average - TOTAL dataset F2 \")\n",
    "print(\"\")\n",
    "\n",
    "\n",
    "#per class TOTAL F2 (N=400)\n",
    "print((263+1158), \"crops in total - TOTAL dataset F2 \")\n",
    "print((486+2097), \"weeds in total - TOTAL dataset F2 \")\n",
    "print((447+1535), \"grass in total - TOTAL dataset F2 \")"
   ],
   "metadata": {
    "collapsed": false,
    "pycharm": {
     "name": "#%%\n"
    }
   }
  },
  {
   "cell_type": "code",
   "execution_count": 30,
   "outputs": [
    {
     "name": "stdout",
     "output_type": "stream",
     "text": [
      "   id                 bbox   area  image_id  category_id  iscrowd  \\\n",
      "0   0    [0, 269, 69, 110]   7590         0            1        0   \n",
      "1   1  [435, 238, 77, 115]   8855         0            1        0   \n",
      "2   2   [441, 93, 71, 103]   7313         0            1        0   \n",
      "3   3    [0, 74, 113, 145]  16385         0            1        0   \n",
      "4   4     [454, 0, 56, 27]   1512         0            1        0   \n",
      "\n",
      "                                           file_name  \n",
      "0  sugar_f1_170912_01_subImages_2_frame100__10_ul...  \n",
      "1  sugar_f1_170912_01_subImages_2_frame100__10_ul...  \n",
      "2  sugar_f1_170912_01_subImages_2_frame100__10_ul...  \n",
      "3  sugar_f1_170912_01_subImages_2_frame100__10_ul...  \n",
      "4  sugar_f1_170912_01_subImages_2_frame100__10_ul...  \n",
      "(1196, 7)\n"
     ]
    }
   ],
   "source": [
    "# merge on image_id\n",
    "result = df_ann.merge(df_img, how='left', on='image_id')\n",
    "print(result.head())\n",
    "print(result.shape)\n"
   ],
   "metadata": {
    "collapsed": false,
    "pycharm": {
     "name": "#%%\n"
    }
   }
  },
  {
   "cell_type": "code",
   "execution_count": 14,
   "outputs": [
    {
     "name": "stdout",
     "output_type": "stream",
     "text": [
      "['bonirob_2016-05-23-10-37-10_0_frame100', 'bonirob_2016-05-23-10-37-10_0_frame100', 'bonirob_2016-05-23-10-37-10_0_frame101', 'bonirob_2016-05-23-10-37-10_0_frame102']\n",
      "id                                                  0\n",
      "bbox                             [534, 593, 148, 130]\n",
      "area                                            19240\n",
      "image_id                                            0\n",
      "category_id                                         1\n",
      "iscrowd                                             0\n",
      "name           bonirob_2016-05-23-10-37-10_0_frame100\n",
      "Name: 0, dtype: object\n",
      "   id                  bbox   area  image_id  category_id  iscrowd  \\\n",
      "0   0  [534, 593, 148, 130]  19240         0            1        0   \n",
      "1   1    [531, 1, 225, 204]  45900         0            1        0   \n",
      "2   2  [501, 753, 224, 206]  46144         1            1        0   \n",
      "3   3  [586, 353, 251, 328]  82328         2            1        0   \n",
      "4   4    [492, 1, 229, 131]  29999         2            1        0   \n",
      "\n",
      "                                     name  \n",
      "0  bonirob_2016-05-23-10-37-10_0_frame100  \n",
      "1  bonirob_2016-05-23-10-37-10_0_frame100  \n",
      "2  bonirob_2016-05-23-10-37-10_0_frame101  \n",
      "3  bonirob_2016-05-23-10-37-10_0_frame102  \n",
      "4  bonirob_2016-05-23-10-37-10_0_frame102  \n"
     ]
    }
   ],
   "source": [
    "## NOT NEEDED for July+ iterations\n",
    "''''\n",
    "# remove .png extension\n",
    "names = result['file_name'].tolist()\n",
    "lst = [os.path.splitext(x)[0] for x in names]\n",
    "print(lst[:4])\n",
    "\n",
    "# rename file_name to name\n",
    "result['name'] = lst\n",
    "\n",
    "\n",
    "result = result.drop(columns=['file_name'])\n",
    "print(result.loc[0])\n",
    "print(result.head())\n",
    "\n",
    "'''"
   ],
   "metadata": {
    "collapsed": false,
    "pycharm": {
     "name": "#%%\n"
    }
   }
  },
  {
   "cell_type": "code",
   "execution_count": 15,
   "outputs": [
    {
     "name": "stdout",
     "output_type": "stream",
     "text": [
      "Index(['id', 'bbox', 'area', 'image_id', 'category', 'iscrowd', 'name'], dtype='object')\n"
     ]
    }
   ],
   "source": [
    "## NOT NEEDED for July+ iterations\n",
    "''''\n",
    "result = result.rename(columns={\"category_id\": \"category\"})\n",
    "print(result.columns)\n",
    "\n",
    "'''\n"
   ],
   "metadata": {
    "collapsed": false,
    "pycharm": {
     "name": "#%%\n"
    }
   }
  },
  {
   "cell_type": "code",
   "execution_count": 20,
   "outputs": [
    {
     "name": "stdout",
     "output_type": "stream",
     "text": [
      "Index(['id', 'bbox', 'area', 'image_id', 'category_id', 'iscrowd', 'file_name',\n",
      "       'x', 'y'],\n",
      "      dtype='object')\n",
      "   id                 bbox   area  image_id  category_id  iscrowd  \\\n",
      "0   0    [0, 269, 69, 110]   7590         0            1        0   \n",
      "1   1  [435, 238, 77, 115]   8855         0            1        0   \n",
      "2   2   [441, 93, 71, 103]   7313         0            1        0   \n",
      "3   3    [0, 74, 113, 145]  16385         0            1        0   \n",
      "4   4     [454, 0, 56, 27]   1512         0            1        0   \n",
      "\n",
      "                                           file_name    x    y  \n",
      "0  sugar_f1_170912_01_subImages_2_frame100__10_ul...  269   69  \n",
      "1  sugar_f1_170912_01_subImages_2_frame100__10_ul...  238   77  \n",
      "2  sugar_f1_170912_01_subImages_2_frame100__10_ul...   93   71  \n",
      "3  sugar_f1_170912_01_subImages_2_frame100__10_ul...   74  113  \n",
      "4  sugar_f1_170912_01_subImages_2_frame100__10_ul...    0   56  \n"
     ]
    }
   ],
   "source": [
    "print(result.columns)\n",
    "print(result.head())"
   ],
   "metadata": {
    "collapsed": false,
    "pycharm": {
     "name": "#%%\n"
    }
   }
  },
  {
   "cell_type": "markdown",
   "source": [
    "Export"
   ],
   "metadata": {
    "collapsed": false,
    "pycharm": {
     "name": "#%% md\n"
    }
   }
  },
  {
   "cell_type": "code",
   "execution_count": 31,
   "outputs": [],
   "source": [
    "result.to_csv(\"P:\\\\Test-f2.csv\")"
   ],
   "metadata": {
    "collapsed": false,
    "pycharm": {
     "name": "#%%\n"
    }
   }
  },
  {
   "cell_type": "markdown",
   "source": [
    "More investigation"
   ],
   "metadata": {
    "collapsed": false,
    "pycharm": {
     "name": "#%% md\n"
    }
   }
  },
  {
   "cell_type": "code",
   "execution_count": 16,
   "outputs": [
    {
     "name": "stdout",
     "output_type": "stream",
     "text": [
      "id                                               0\n",
      "bbox                          [534, 593, 148, 130]\n",
      "area                                         19240\n",
      "image_id                                         0\n",
      "category                                         1\n",
      "iscrowd                                          0\n",
      "name        bonirob_2016-05-23-10-37-10_0_frame100\n",
      "Name: 0, dtype: object\n",
      "(124, 7)\n",
      "   id                  bbox   area  image_id  category  iscrowd  \\\n",
      "0   0  [534, 593, 148, 130]  19240         0         1        0   \n",
      "1   1    [531, 1, 225, 204]  45900         0         1        0   \n",
      "2   2  [501, 753, 224, 206]  46144         1         1        0   \n",
      "3   3  [586, 353, 251, 328]  82328         2         1        0   \n",
      "4   4    [492, 1, 229, 131]  29999         2         1        0   \n",
      "\n",
      "                                     name  \n",
      "0  bonirob_2016-05-23-10-37-10_0_frame100  \n",
      "1  bonirob_2016-05-23-10-37-10_0_frame100  \n",
      "2  bonirob_2016-05-23-10-37-10_0_frame101  \n",
      "3  bonirob_2016-05-23-10-37-10_0_frame102  \n",
      "4  bonirob_2016-05-23-10-37-10_0_frame102  \n"
     ]
    }
   ],
   "source": [
    "# only weeds category == 2 or crops/1\n",
    "new_df = result.loc[result['category'] == 1]\n",
    "\n",
    "print(new_df.loc[0])\n",
    "print(new_df.shape)\n",
    "print(new_df.head())\n"
   ],
   "metadata": {
    "collapsed": false,
    "pycharm": {
     "name": "#%%\n"
    }
   }
  },
  {
   "cell_type": "code",
   "execution_count": 17,
   "outputs": [
    {
     "name": "stdout",
     "output_type": "stream",
     "text": [
      "   id                  bbox   area  image_id  category  iscrowd  \\\n",
      "0   0  [534, 593, 148, 130]  19240         0         1        0   \n",
      "1   1    [531, 1, 225, 204]  45900         0         1        0   \n",
      "2   2  [501, 753, 224, 206]  46144         1         1        0   \n",
      "3   3  [586, 353, 251, 328]  82328         2         1        0   \n",
      "4   4    [492, 1, 229, 131]  29999         2         1        0   \n",
      "\n",
      "                                     name  \n",
      "0  bonirob_2016-05-23-10-37-10_0_frame100  \n",
      "1  bonirob_2016-05-23-10-37-10_0_frame100  \n",
      "2  bonirob_2016-05-23-10-37-10_0_frame101  \n",
      "3  bonirob_2016-05-23-10-37-10_0_frame102  \n",
      "4  bonirob_2016-05-23-10-37-10_0_frame102  \n"
     ]
    }
   ],
   "source": [
    "print(new_df.head())\n"
   ],
   "metadata": {
    "collapsed": false,
    "pycharm": {
     "name": "#%%\n"
    }
   }
  },
  {
   "cell_type": "code",
   "execution_count": 18,
   "outputs": [
    {
     "data": {
      "text/plain": "1    124\nName: category, dtype: int64"
     },
     "execution_count": 18,
     "metadata": {},
     "output_type": "execute_result"
    }
   ],
   "source": [
    "new_df['category'].value_counts()"
   ],
   "metadata": {
    "collapsed": false,
    "pycharm": {
     "name": "#%%\n"
    }
   }
  },
  {
   "cell_type": "code",
   "execution_count": 19,
   "outputs": [
    {
     "name": "stdout",
     "output_type": "stream",
     "text": [
      "(124, 7)\n"
     ]
    }
   ],
   "source": [
    "print(new_df.shape)"
   ],
   "metadata": {
    "collapsed": false,
    "pycharm": {
     "name": "#%%\n"
    }
   }
  },
  {
   "cell_type": "markdown",
   "source": [
    "- How many annotations total?\n",
    "- How many crops total?\n",
    "- How many weeds total?\n",
    "- How many grass total?\n",
    "- Same, but per image on average? (so /921)\n",
    "\n"
   ],
   "metadata": {
    "collapsed": false,
    "pycharm": {
     "name": "#%% md\n"
    }
   }
  },
  {
   "cell_type": "code",
   "execution_count": 16,
   "outputs": [
    {
     "data": {
      "text/plain": "2    10003\n3     5655\n1     2375\nName: category_id, dtype: int64"
     },
     "execution_count": 16,
     "metadata": {},
     "output_type": "execute_result"
    }
   ],
   "source": [
    "df_ann['category_id'].value_counts()"
   ],
   "metadata": {
    "collapsed": false,
    "pycharm": {
     "name": "#%%\n"
    }
   }
  },
  {
   "cell_type": "code",
   "execution_count": 17,
   "outputs": [
    {
     "name": "stdout",
     "output_type": "stream",
     "text": [
      "2.57871878393051 crops per image on average\n",
      "10.861020629750271 weeds per image on average\n",
      "6.140065146579804 grass per image on average\n"
     ]
    }
   ],
   "source": [
    "# per class\n",
    "print(2375/921, \"crops per image on average\")\n",
    "print(10003/921, \"weeds per image on average\")\n",
    "print(5655/921, \"grass per image on average\")\n"
   ],
   "metadata": {
    "collapsed": false,
    "pycharm": {
     "name": "#%%\n"
    }
   }
  },
  {
   "cell_type": "code",
   "execution_count": 19,
   "outputs": [
    {
     "name": "stdout",
     "output_type": "stream",
     "text": [
      "18033\n",
      "19.579804560260587 annotations per image on average\n"
     ]
    }
   ],
   "source": [
    "# total\n",
    "print(len(df_ann))\n",
    "print(len(df_ann)/921, \"annotations per image on average\")"
   ],
   "metadata": {
    "collapsed": false,
    "pycharm": {
     "name": "#%%\n"
    }
   }
  },
  {
   "cell_type": "code",
   "execution_count": 20,
   "outputs": [
    {
     "name": "stdout",
     "output_type": "stream",
     "text": [
      "Index(['bbox', 'area', 'image_id', 'category', 'iscrowd', 'name'], dtype='object')\n"
     ]
    }
   ],
   "source": [
    "new_df = new_df.drop(columns=['id'])\n",
    "print(new_df.columns)"
   ],
   "metadata": {
    "collapsed": false,
    "pycharm": {
     "name": "#%%\n"
    }
   }
  },
  {
   "cell_type": "code",
   "execution_count": 21,
   "outputs": [],
   "source": [
    "new_df.to_csv('Data_Crops_Sample50_July14.csv')"
   ],
   "metadata": {
    "collapsed": false,
    "pycharm": {
     "name": "#%%\n"
    }
   }
  },
  {
   "cell_type": "code",
   "execution_count": null,
   "outputs": [],
   "source": [],
   "metadata": {
    "collapsed": false,
    "pycharm": {
     "name": "#%%\n"
    }
   }
  }
 ],
 "metadata": {
  "kernelspec": {
   "name": "preprocessing_env",
   "language": "python",
   "display_name": "Data Preprocessing (cv2)"
  },
  "language_info": {
   "codemirror_mode": {
    "name": "ipython",
    "version": 2
   },
   "file_extension": ".py",
   "mimetype": "text/x-python",
   "name": "python",
   "nbconvert_exporter": "python",
   "pygments_lexer": "ipython2",
   "version": "2.7.6"
  }
 },
 "nbformat": 4,
 "nbformat_minor": 0
}