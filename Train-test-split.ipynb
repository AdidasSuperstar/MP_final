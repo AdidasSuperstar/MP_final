{
 "cells": [
  {
   "cell_type": "code",
   "execution_count": 1,
   "metadata": {
    "collapsed": true
   },
   "outputs": [],
   "source": [
    "# # Creating Train / Val / Test folders (One time use)\n",
    "import os\n",
    "import numpy as np\n",
    "import shutil\n",
    "import random\n",
    "root_dir = 'C:\\\\Users\\\\Eva.Locusteanu\\\\PycharmProjects\\\\MP\\\\F2-DATA\\\\DATA\\\\' # data root path\n",
    "\n",
    "val_ratio = 0.2\n",
    "\n",
    "\n",
    "\n",
    "# Creating partitions of the data after shuffeling\n",
    "src = root_dir # Folder to copy images from\n",
    "\n",
    "allFileNames = os.listdir(src)\n",
    "np.random.shuffle(allFileNames)\n",
    "train_FileNames, val_FileNames = np.split(np.array(allFileNames),\n",
    "                                                          [int(len(allFileNames)* (1 - val_ratio))])\n",
    "\n",
    "\n",
    "train_FileNames = [src +'/'+ name for name in train_FileNames.tolist()]\n",
    "val_FileNames = [src +'/'+ name for name in val_FileNames.tolist()]\n",
    "\n"
   ]
  },
  {
   "cell_type": "code",
   "execution_count": 3,
   "outputs": [
    {
     "name": "stdout",
     "output_type": "stream",
     "text": [
      "Total images:  400\n",
      "Training:  320\n",
      "Validation:  80\n"
     ]
    }
   ],
   "source": [
    "\n",
    "print('Total images: ', len(allFileNames))\n",
    "print('Training: ', len(train_FileNames))\n",
    "print('Validation: ', len(val_FileNames))\n"
   ],
   "metadata": {
    "collapsed": false,
    "pycharm": {
     "name": "#%%\n"
    }
   }
  },
  {
   "cell_type": "code",
   "execution_count": 4,
   "outputs": [],
   "source": [
    "dest_train = 'C:\\\\Users\\\\Eva.Locusteanu\\\\PycharmProjects\\\\MP\\\\F2-DATA\\\\TRAINING'\n",
    "dest_test =  'C:\\\\Users\\\\Eva.Locusteanu\\\\PycharmProjects\\\\MP\\\\F2-DATA\\\\TEST'"
   ],
   "metadata": {
    "collapsed": false,
    "pycharm": {
     "name": "#%%\n"
    }
   }
  },
  {
   "cell_type": "code",
   "execution_count": 5,
   "outputs": [],
   "source": [
    "# Copy-pasting images training\n",
    "for name in train_FileNames:\n",
    "    shutil.copy(name, dest_train)\n",
    "\n"
   ],
   "metadata": {
    "collapsed": false,
    "pycharm": {
     "name": "#%%\n"
    }
   }
  },
  {
   "cell_type": "code",
   "execution_count": 6,
   "outputs": [],
   "source": [
    "# Copy-pasting images testing\n",
    "for name in val_FileNames:\n",
    "    shutil.copy(name, dest_test)"
   ],
   "metadata": {
    "collapsed": false,
    "pycharm": {
     "name": "#%%\n"
    }
   }
  },
  {
   "cell_type": "markdown",
   "source": [
    "Create paths for iMapCleaned stuff as well\n"
   ],
   "metadata": {
    "collapsed": false,
    "pycharm": {
     "name": "#%% md\n"
    }
   }
  },
  {
   "cell_type": "code",
   "execution_count": 7,
   "outputs": [
    {
     "name": "stdout",
     "output_type": "stream",
     "text": [
      "['C:', 'Users', 'Eva.Locusteanu', 'PycharmProjects', 'MP', 'F2-DATA', 'TEST']\n"
     ]
    }
   ],
   "source": [
    "normalized_path = os.path.normpath(dest_test)\n",
    "path_components = normalized_path.split(os.sep)\n",
    "\n",
    "print(path_components)\n",
    "\n"
   ],
   "metadata": {
    "collapsed": false,
    "pycharm": {
     "name": "#%%\n"
    }
   }
  },
  {
   "cell_type": "code",
   "execution_count": 8,
   "outputs": [],
   "source": [
    "FOLDERS = {\n",
    "    \"RGB\": 'images\\\\rgb',\n",
    "    \"NIR\": 'images\\\\nir',\n",
    "    \"IMAP\": 'annotations\\\\dlp\\\\iMapCleaned',\n",
    "    \"STEM\": 'annotations\\\\dlp\\\\classwise'\n",
    "}"
   ],
   "metadata": {
    "collapsed": false,
    "pycharm": {
     "name": "#%%\n"
    }
   }
  },
  {
   "cell_type": "code",
   "execution_count": 9,
   "outputs": [],
   "source": [
    "input_path = \"P:\\\\lottes2018iros_datasets\\\\CKA_170912_f1_sub\""
   ],
   "metadata": {
    "collapsed": false,
    "pycharm": {
     "name": "#%%\n"
    }
   }
  },
  {
   "cell_type": "code",
   "execution_count": 10,
   "outputs": [],
   "source": [
    "\n",
    "MASK_DIR = os.path.join(input_path, FOLDERS[\"IMAP\"])"
   ],
   "metadata": {
    "collapsed": false,
    "pycharm": {
     "name": "#%%\n"
    }
   }
  },
  {
   "cell_type": "code",
   "execution_count": 11,
   "outputs": [
    {
     "name": "stdout",
     "output_type": "stream",
     "text": [
      "P:\\lottes2018iros_datasets\\CKA_170912_f1_sub\\annotations\\dlp\\iMapCleaned\n"
     ]
    }
   ],
   "source": [
    "print(MASK_DIR)\n"
   ],
   "metadata": {
    "collapsed": false,
    "pycharm": {
     "name": "#%%\n"
    }
   }
  },
  {
   "cell_type": "markdown",
   "source": [
    "Copy corresponding masks (iMapCleaned objects) for training and testing"
   ],
   "metadata": {
    "collapsed": false,
    "pycharm": {
     "name": "#%% md\n"
    }
   }
  },
  {
   "cell_type": "code",
   "execution_count": 12,
   "outputs": [],
   "source": [
    "mask_dest_test = \"P:\\\\f2-folder-test\\\\annotations\\\\dlp\\\\iMapCleaned\"\n",
    "mask_dest_train = \"P:\\\\f2-folder-train\\\\annotations\\\\dlp\\\\iMapCleaned\""
   ],
   "metadata": {
    "collapsed": false,
    "pycharm": {
     "name": "#%%\n"
    }
   }
  },
  {
   "cell_type": "code",
   "execution_count": 13,
   "outputs": [],
   "source": [
    "val_temp = []\n",
    "for name in val_FileNames:\n",
    "    normalized_path = os.path.normpath(name)\n",
    "    path_components = normalized_path.split(os.sep)\n",
    "\n",
    "    val_temp.append(path_components)"
   ],
   "metadata": {
    "collapsed": false,
    "pycharm": {
     "name": "#%%\n"
    }
   }
  },
  {
   "cell_type": "code",
   "execution_count": 14,
   "outputs": [],
   "source": [
    "val_tempx = []\n",
    "for name in val_temp:\n",
    "    val_tempx.append(os.path.join(MASK_DIR,name[-1]))"
   ],
   "metadata": {
    "collapsed": false,
    "pycharm": {
     "name": "#%%\n"
    }
   }
  },
  {
   "cell_type": "code",
   "source": [
    "for name in val_tempx:\n",
    "    shutil.copy(name, mask_dest_test)"
   ],
   "metadata": {
    "collapsed": false,
    "pycharm": {
     "name": "#%%\n"
    }
   },
   "execution_count": 15,
   "outputs": []
  },
  {
   "cell_type": "markdown",
   "source": [
    "And for training"
   ],
   "metadata": {
    "collapsed": false,
    "pycharm": {
     "name": "#%% md\n"
    }
   }
  },
  {
   "cell_type": "code",
   "execution_count": 16,
   "outputs": [],
   "source": [
    "train_temp = []\n",
    "for name in train_FileNames:\n",
    "    normalized_path = os.path.normpath(name)\n",
    "    path_components = normalized_path.split(os.sep)\n",
    "\n",
    "    train_temp.append(path_components)\n",
    "\n",
    "\n",
    "train_tempx = []\n",
    "for name in train_temp:\n",
    "    train_tempx.append(os.path.join(MASK_DIR,name[-1]))\n",
    "\n",
    "\n",
    "for name in train_tempx:\n",
    "    shutil.copy(name, mask_dest_train)"
   ],
   "metadata": {
    "collapsed": false,
    "pycharm": {
     "name": "#%%\n"
    }
   }
  },
  {
   "cell_type": "code",
   "execution_count": null,
   "outputs": [],
   "source": [],
   "metadata": {
    "collapsed": false,
    "pycharm": {
     "name": "#%%\n"
    }
   }
  }
 ],
 "metadata": {
  "kernelspec": {
   "name": "preprocessing_env",
   "language": "python",
   "display_name": "Data Preprocessing (cv2)"
  },
  "language_info": {
   "codemirror_mode": {
    "name": "ipython",
    "version": 2
   },
   "file_extension": ".py",
   "mimetype": "text/x-python",
   "name": "python",
   "nbconvert_exporter": "python",
   "pygments_lexer": "ipython2",
   "version": "2.7.6"
  }
 },
 "nbformat": 4,
 "nbformat_minor": 0
}